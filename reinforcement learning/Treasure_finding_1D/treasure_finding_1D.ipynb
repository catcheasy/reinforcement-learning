{
 "cells": [
  {
   "cell_type": "code",
   "execution_count": 10,
   "metadata": {
    "collapsed": true
   },
   "outputs": [],
   "source": [
    "import numpy as np\n",
    "import pandas as pd\n",
    "import time"
   ]
  },
  {
   "cell_type": "code",
   "execution_count": 11,
   "metadata": {
    "collapsed": true
   },
   "outputs": [],
   "source": [
    "np.random.seed(1)"
   ]
  },
  {
   "cell_type": "code",
   "execution_count": 12,
   "metadata": {
    "collapsed": false
   },
   "outputs": [],
   "source": [
    "N_STATES = 8\n",
    "ACTIONS = ['left', 'right'] \n",
    "EPSILON = 0.9\n",
    "ALPHA = 0.1 \n",
    "GAMMA = 0.9 \n",
    "MAX_EPISODES = 40\n",
    "FRESH_TIME = 0.1"
   ]
  },
  {
   "cell_type": "code",
   "execution_count": 13,
   "metadata": {
    "collapsed": false
   },
   "outputs": [],
   "source": [
    "def build_q_table(n_states, actions):\n",
    "    table = pd.DataFrame(\n",
    "        np.zeros((n_states,len(actions))),\n",
    "        columns=actions\n",
    "    )\n",
    "    return table"
   ]
  },
  {
   "cell_type": "code",
   "execution_count": 14,
   "metadata": {
    "collapsed": false
   },
   "outputs": [],
   "source": [
    "def choose_action(state, q_table):\n",
    "    state_actions = q_table.iloc[state,:]\n",
    "    if (np.random.uniform()>EPSILON) or (state_actions.all()==0):\n",
    "        action_name = np.random.choice(ACTIONS)\n",
    "    else:\n",
    "        action_name = state_actions.idxmax()\n",
    "    return action_name"
   ]
  },
  {
   "cell_type": "code",
   "execution_count": 15,
   "metadata": {
    "collapsed": false
   },
   "outputs": [],
   "source": [
    "def get_env_feedback(S,A):\n",
    "    if A == 'right':\n",
    "        if S == N_STATES - 2:\n",
    "            S_ = 'terminal'\n",
    "            R = 1\n",
    "        else:\n",
    "            S_ = S + 1\n",
    "            R = 0\n",
    "    else:\n",
    "        R = 0\n",
    "        if S == 0:\n",
    "            S_ = S\n",
    "        else:\n",
    "            S_ = S - 1\n",
    "            \n",
    "    return S_, R"
   ]
  },
  {
   "cell_type": "code",
   "execution_count": 16,
   "metadata": {
    "collapsed": true
   },
   "outputs": [],
   "source": [
    "def update_env(S, episode, step_counter):\n",
    "    env_list = ['-']*(N_STATES-1) + ['T']\n",
    "    if S == 'terminal':\n",
    "        interaction = 'Episode %s: total_step = %s' %(episode, step_counter)\n",
    "        print('\\r{}'.format(interaction), end='')\n",
    "        time.sleep(2)\n",
    "        print('\\r',end='')  \n",
    "    else:\n",
    "        env_list[S] = 'o'\n",
    "        interaction = ''.join(env_list)\n",
    "        print('\\r{}'.format(interaction), end='')#\n",
    "        time.sleep(FRESH_TIME)"
   ]
  },
  {
   "cell_type": "code",
   "execution_count": 17,
   "metadata": {
    "collapsed": false
   },
   "outputs": [],
   "source": [
    "def rl():\n",
    "    q_table = build_q_table(N_STATES,ACTIONS)\n",
    "    for episode in range(MAX_EPISODES):\n",
    "        stepcounter = 0\n",
    "        S = 0\n",
    "        is_terminated = False\n",
    "        update_env(S, episode, stepcounter)\n",
    "        while not is_terminated:\n",
    "            \n",
    "            A = choose_action(S, q_table)\n",
    "            S_, R = get_env_feedback(S, A)\n",
    "            q_predict = q_table.loc[S,A]\n",
    "            \n",
    "            if S_ != 'terminal':\n",
    "                q_target = R + GAMMA * q_table.iloc[S_,:].max()\n",
    "            else:\n",
    "                q_target = R\n",
    "                is_terminated = True\n",
    "                \n",
    "            q_table.loc[S,A] += ALPHA * (q_target - q_predict)\n",
    "            S = S_\n",
    "            \n",
    "            stepcounter+=1\n",
    "            update_env(S, episode, stepcounter)\n",
    "    print(q_table)    \n",
    "    return q_table"
   ]
  },
  {
   "cell_type": "code",
   "execution_count": 18,
   "metadata": {
    "collapsed": false
   },
   "outputs": [
    {
     "name": "stdout",
     "output_type": "stream",
     "text": [
      "           left     right\n",
      "0  5.597938e-03  0.063449\n",
      "1  9.087641e-09  0.138166\n",
      "2  3.407406e-03  0.265018\n",
      "3  7.786201e-06  0.445637\n",
      "4  5.127062e-02  0.641600\n",
      "5  2.891858e-02  0.837911\n",
      "6  1.471208e-01  0.985219\n",
      "7  0.000000e+00  0.000000\n"
     ]
    }
   ],
   "source": [
    "if __name__ == \"__main__\":\n",
    "    q_table = rl()"
   ]
  },
  {
   "cell_type": "code",
   "execution_count": null,
   "metadata": {
    "collapsed": true
   },
   "outputs": [],
   "source": []
  },
  {
   "cell_type": "code",
   "execution_count": null,
   "metadata": {
    "collapsed": true
   },
   "outputs": [],
   "source": []
  }
 ],
 "metadata": {
  "anaconda-cloud": {},
  "kernelspec": {
   "display_name": "Python [default]",
   "language": "python",
   "name": "python3"
  },
  "language_info": {
   "codemirror_mode": {
    "name": "ipython",
    "version": 3
   },
   "file_extension": ".py",
   "mimetype": "text/x-python",
   "name": "python",
   "nbconvert_exporter": "python",
   "pygments_lexer": "ipython3",
   "version": "3.5.2"
  }
 },
 "nbformat": 4,
 "nbformat_minor": 1
}
